{
 "cells": [
  {
   "cell_type": "code",
   "execution_count": 1,
   "id": "55f64427-a304-4f43-8c65-305cabc3c7b9",
   "metadata": {
    "tags": []
   },
   "outputs": [
    {
     "name": "stdout",
     "output_type": "stream",
     "text": [
      "Requirement already satisfied: minio in /opt/app-root/lib/python3.9/site-packages (7.2.4)\n",
      "Requirement already satisfied: pycryptodome in /opt/app-root/lib/python3.9/site-packages (from minio) (3.20.0)\n",
      "Requirement already satisfied: urllib3 in /opt/app-root/lib/python3.9/site-packages (from minio) (1.26.18)\n",
      "Requirement already satisfied: argon2-cffi in /opt/app-root/lib/python3.9/site-packages (from minio) (23.1.0)\n",
      "Requirement already satisfied: certifi in /opt/app-root/lib/python3.9/site-packages (from minio) (2024.2.2)\n",
      "Requirement already satisfied: typing-extensions in /opt/app-root/lib/python3.9/site-packages (from minio) (4.10.0)\n",
      "Requirement already satisfied: argon2-cffi-bindings in /opt/app-root/lib/python3.9/site-packages (from argon2-cffi->minio) (21.2.0)\n",
      "Requirement already satisfied: cffi>=1.0.1 in /opt/app-root/lib/python3.9/site-packages (from argon2-cffi-bindings->argon2-cffi->minio) (1.16.0)\n",
      "Requirement already satisfied: pycparser in /opt/app-root/lib/python3.9/site-packages (from cffi>=1.0.1->argon2-cffi-bindings->argon2-cffi->minio) (2.21)\n",
      "\n",
      "\u001b[1m[\u001b[0m\u001b[34;49mnotice\u001b[0m\u001b[1;39;49m]\u001b[0m\u001b[39;49m A new release of pip available: \u001b[0m\u001b[31;49m22.2.2\u001b[0m\u001b[39;49m -> \u001b[0m\u001b[32;49m24.3.1\u001b[0m\n",
      "\u001b[1m[\u001b[0m\u001b[34;49mnotice\u001b[0m\u001b[1;39;49m]\u001b[0m\u001b[39;49m To update, run: \u001b[0m\u001b[32;49mpip install --upgrade pip\u001b[0m\n"
     ]
    }
   ],
   "source": [
    "\"\"\"\n",
    "This is an example of querying objects in S3 using the Minio client.\n",
    "This is not preferred because it's tied to using a specific client.\n",
    "It may not work if Griot and Grits switches from Minio to something else.\n",
    "\"\"\"\n",
    "\n",
    "!pip install minio\n",
    "\n",
    "from minio import Minio\n",
    "from minio.error import S3Error\n",
    "import os\n",
    "import datetime\n",
    "\n",
    "# MinIO client doesn't like URLs with procotol/schema, so use\n",
    "# yourendpoint.com instead of https://yourtendpoint.com\n",
    "AWS_S3_ENDPOINT = os.getenv(\"AWS_S3_ENDPOINT\")\n",
    "AWS_ACCESS_KEY_ID = os.getenv(\"AWS_ACCESS_KEY_ID\")\n",
    "AWS_SECRET_ACCESS_KEY = os.getenv(\"AWS_SECRET_ACCESS_KEY\")\n",
    "AWS_S3_BUCKET = os.getenv(\"AWS_S3_BUCKET\")"
   ]
  },
  {
   "cell_type": "code",
   "execution_count": 2,
   "id": "8dca44bb-3108-4428-a22d-d1423e7d6069",
   "metadata": {},
   "outputs": [],
   "source": [
    "# Function to recursively list objects\n",
    "def list_objects_recursively(client, bucket_name, prefix=\"\"):\n",
    "    try:\n",
    "        objects = client.list_objects(bucket_name, prefix=prefix, recursive=True)\n",
    "        for obj in objects:\n",
    "            print(obj.object_name)\n",
    "    except S3Error as err:\n",
    "        print(f\"Error occurred: {err}\")"
   ]
  },
  {
   "cell_type": "code",
   "execution_count": 3,
   "id": "aad52369-370f-4f15-ac14-23e68a87165c",
   "metadata": {},
   "outputs": [],
   "source": [
    "# Create the MinIO client\n",
    "client = Minio(\n",
    "    AWS_S3_ENDPOINT,\n",
    "    access_key=AWS_ACCESS_KEY_ID,\n",
    "    secret_key=AWS_SECRET_ACCESS_KEY,\n",
    "    secure=True  # Set to True if you are using HTTPS\n",
    ")"
   ]
  },
  {
   "cell_type": "code",
   "execution_count": 4,
   "id": "c678bc2c-f5e4-4ba2-a156-4806017e923a",
   "metadata": {
    "tags": []
   },
   "outputs": [
    {
     "name": "stdout",
     "output_type": "stream",
     "text": [
      "Bucket:\n",
      "griot-grits-catalog\n",
      "\n",
      "Objects in bucket: \n",
      "assets/raw/recordings/mcduffie-sharon-20241221-1of2.mp4\n",
      "assets/raw/recordings/sample_video.mp4\n"
     ]
    }
   ],
   "source": [
    "#List all buckets and objects\n",
    "try:\n",
    "    buckets = client.list_buckets()\n",
    "    for bucket in buckets:\n",
    "        print('Bucket:\\n' + bucket.name + '\\n')\n",
    "        \n",
    "        print('Objects in bucket: ')\n",
    "        list_objects_recursively(client, bucket.name)\n",
    "except S3Error as e:\n",
    "    print(\"Error occurred: \", e)"
   ]
  },
  {
   "cell_type": "code",
   "execution_count": null,
   "id": "809e418b-8ca9-49f3-a10f-fdafcb025f5f",
   "metadata": {},
   "outputs": [],
   "source": []
  }
 ],
 "metadata": {
  "kernelspec": {
   "display_name": "Python 3.9",
   "language": "python",
   "name": "python3"
  },
  "language_info": {
   "codemirror_mode": {
    "name": "ipython",
    "version": 3
   },
   "file_extension": ".py",
   "mimetype": "text/x-python",
   "name": "python",
   "nbconvert_exporter": "python",
   "pygments_lexer": "ipython3",
   "version": "3.9.16"
  }
 },
 "nbformat": 4,
 "nbformat_minor": 5
}
