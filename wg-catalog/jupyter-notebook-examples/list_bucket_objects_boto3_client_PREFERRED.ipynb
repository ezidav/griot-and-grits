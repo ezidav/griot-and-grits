{
 "cells": [
  {
   "cell_type": "code",
   "execution_count": 1,
   "id": "e2a04cdb-9a11-4f19-87f5-b68bd675fdf1",
   "metadata": {
    "tags": []
   },
   "outputs": [
    {
     "name": "stdout",
     "output_type": "stream",
     "text": [
      "Requirement already satisfied: boto3 in /opt/app-root/lib/python3.9/site-packages (1.28.85)\n",
      "Requirement already satisfied: jmespath<2.0.0,>=0.7.1 in /opt/app-root/lib/python3.9/site-packages (from boto3) (1.0.1)\n",
      "Requirement already satisfied: botocore<1.32.0,>=1.31.85 in /opt/app-root/lib/python3.9/site-packages (from boto3) (1.31.85)\n",
      "Requirement already satisfied: s3transfer<0.8.0,>=0.7.0 in /opt/app-root/lib/python3.9/site-packages (from boto3) (0.7.0)\n",
      "Requirement already satisfied: python-dateutil<3.0.0,>=2.1 in /opt/app-root/lib/python3.9/site-packages (from botocore<1.32.0,>=1.31.85->boto3) (2.9.0)\n",
      "Requirement already satisfied: urllib3<1.27,>=1.25.4 in /opt/app-root/lib/python3.9/site-packages (from botocore<1.32.0,>=1.31.85->boto3) (1.26.18)\n",
      "Requirement already satisfied: six>=1.5 in /opt/app-root/lib/python3.9/site-packages (from python-dateutil<3.0.0,>=2.1->botocore<1.32.0,>=1.31.85->boto3) (1.16.0)\n",
      "\n",
      "\u001b[1m[\u001b[0m\u001b[34;49mnotice\u001b[0m\u001b[1;39;49m]\u001b[0m\u001b[39;49m A new release of pip available: \u001b[0m\u001b[31;49m22.2.2\u001b[0m\u001b[39;49m -> \u001b[0m\u001b[32;49m24.3.1\u001b[0m\n",
      "\u001b[1m[\u001b[0m\u001b[34;49mnotice\u001b[0m\u001b[1;39;49m]\u001b[0m\u001b[39;49m To update, run: \u001b[0m\u001b[32;49mpip install --upgrade pip\u001b[0m\n"
     ]
    }
   ],
   "source": [
    "\"\"\"\n",
    "This notebook shows an example of using Boto3 to query the Griot and Grits S3 bucket.\n",
    "This is the PREFERRED way of getting data from the object storage using the S3 API.\n",
    "It's preferred because it's not tied to a specific object storage offering\n",
    "but instead is abstracted in case we switch underlying object storage technology\n",
    "in the future\n",
    "\"\"\"\n",
    "\n",
    "!pip install boto3\n",
    "\n",
    "import os\n",
    "import boto3\n",
    "\n",
    "AWS_S3_ENDPOINT = os.getenv(\"AWS_S3_ENDPOINT\")\n",
    "AWS_ACCESS_KEY_ID = os.getenv(\"AWS_ACCESS_KEY_ID\")\n",
    "AWS_SECRET_ACCESS_KEY = os.getenv(\"AWS_SECRET_ACCESS_KEY\")\n",
    "AWS_S3_BUCKET = os.getenv(\"AWS_S3_BUCKET\")"
   ]
  },
  {
   "cell_type": "code",
   "execution_count": 2,
   "id": "5c8967b8-2278-4bdc-8fc6-8f200dbcfff3",
   "metadata": {},
   "outputs": [],
   "source": [
    "# Function to recursively list objects\n",
    "def list_objects_recursively(bucket_name, prefix=\"\"):\n",
    "    paginator = s3_client.get_paginator('list_objects_v2')\n",
    "    for page in paginator.paginate(Bucket=bucket_name, Prefix=prefix):\n",
    "        for obj in page.get('Contents', []):\n",
    "            print(obj['Key'])"
   ]
  },
  {
   "cell_type": "code",
   "execution_count": 3,
   "id": "38c91ae3-38b4-4b29-86d5-6f51c38acc05",
   "metadata": {
    "tags": []
   },
   "outputs": [
    {
     "name": "stdout",
     "output_type": "stream",
     "text": [
      "Bucket:\n",
      "griot-grits-catalog\n",
      "\n",
      "Objects in bucket: \n",
      "assets/raw/recordings/mcduffie-sharon-20241221-1of2.mp4\n",
      "assets/raw/recordings/sample_video.mp4\n"
     ]
    }
   ],
   "source": [
    "# Initialize the boto3 client with the endpoint URL\n",
    "s3_client = boto3.client(\n",
    "    's3', \n",
    "    aws_access_key_id=AWS_ACCESS_KEY_ID, \n",
    "    aws_secret_access_key=AWS_SECRET_ACCESS_KEY,\n",
    "    endpoint_url='https://' + AWS_S3_ENDPOINT,\n",
    "    region_name='us-east-1'\n",
    ")\n",
    "\n",
    "response = s3_client.list_buckets()\n",
    "for bucket in response['Buckets']:\n",
    "    print('Bucket:\\n' + bucket['Name'] + '\\n')\n",
    "    \n",
    "    print('Objects in bucket: ')\n",
    "    # Call the function\n",
    "    list_objects_recursively(bucket['Name'])"
   ]
  },
  {
   "cell_type": "code",
   "execution_count": null,
   "id": "e5099e05-bfa4-413a-a715-908f264707d1",
   "metadata": {},
   "outputs": [],
   "source": []
  }
 ],
 "metadata": {
  "kernelspec": {
   "display_name": "Python 3.9",
   "language": "python",
   "name": "python3"
  },
  "language_info": {
   "codemirror_mode": {
    "name": "ipython",
    "version": 3
   },
   "file_extension": ".py",
   "mimetype": "text/x-python",
   "name": "python",
   "nbconvert_exporter": "python",
   "pygments_lexer": "ipython3",
   "version": "3.9.16"
  }
 },
 "nbformat": 4,
 "nbformat_minor": 5
}
